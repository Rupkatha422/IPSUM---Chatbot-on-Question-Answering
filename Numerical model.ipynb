{
 "cells": [
  {
   "cell_type": "code",
   "execution_count": 1,
   "id": "e9a13d90",
   "metadata": {},
   "outputs": [],
   "source": [
    "def calc_TDI():\n",
    "    TDI=14\n",
    "    influence=input(\"Enter the degree of influenceof the func [incidental, moderate, average, significant, essential, n/a]: \")\n",
    "    influence=influence.lower()\n",
    "    degree_of_influence={\"n/a\":0, \"na\":0, \"incidental\":1, \"moderate\":2, \"average\":3, \"significant\":4, \"essential\":5}\n",
    "\n",
    "    if influence in degree_of_influence:\n",
    "        TDI = TDI * degree_of_influence[influence]\n",
    "\n",
    "    return TDI\n"
   ]
  },
  {
   "cell_type": "code",
   "execution_count": 2,
   "id": "71add550",
   "metadata": {},
   "outputs": [],
   "source": [
    "def calc_UFP():\n",
    "    attribute= [[3, 4, 6], [4, 5, 7], [3, 4, 6], [7, 10, 15], [5, 7, 10]]\n",
    "    complexity_score={\"simple\":0, \"average\": 1, \"complex\": 2}\n",
    "    f_type_score={\"input\": 0,\"output\":1, \"inquiry\":2, \"internal logical file\": 3, \"ilf\":3, \"external logical file\": 4, \"elf\":4}\n",
    "    data=[]\n",
    "    UFP=0\n",
    "\n",
    "    while True:\n",
    "        file_type=input(\"Enter file type: [input, output, internal logical file (ilf), external logical file(elf), inquiry]\")\n",
    "        n_files=int(input(\"Enter number of files:\"))\n",
    "        complexity=input(\"Enter its complexity: [simple, average, complex]: \")\n",
    "\n",
    "        file_type=file_type.lower()\n",
    "        complexity=complexity.lower()\n",
    "\n",
    "        data.append({\n",
    "            \"file_type\": file_type,\n",
    "            \"complexity\": complexity,\n",
    "            \"n_file\": n_files\n",
    "        })\n",
    "\n",
    "        choice=input(\"Want to enter more files? (y/n):\")\n",
    "        choice=choice.lower()\n",
    "        if choice==\"n\":\n",
    "            break\n",
    "\n",
    "    for file in data:\n",
    "        print(f\"{file['n_file']} {file['file_type']} File that are {file['complexity']}\")\n",
    "\n",
    "    print(\"\\n\")\n",
    "    length=len(data)\n",
    "    for i in range (length):\n",
    "        file_type = data[i]['file_type']\n",
    "        complexity_type=data[i]['complexity']\n",
    "\n",
    "        # print(f\"file_type: {file_type}\")\n",
    "        # print(f\"complexity_type: {complexity_type}\")\n",
    "\n",
    "        if file_type in f_type_score:\n",
    "            f_type=f_type_score[file_type]\n",
    "            # print(f\"f_type: {f_type}\")\n",
    "\n",
    "        if complexity_type in complexity_score:\n",
    "            c_score=complexity_score[complexity_type]\n",
    "            # print(f\"c_score: {c_score}\")\n",
    "\n",
    "        UFP = UFP + (attribute[f_type][c_score] * data[i]['n_file'])\n",
    "        # print(UFP)\n",
    "\n",
    "    # print(f\"Total UFP: {UFP}\")\n",
    "    return UFP"
   ]
  },
  {
   "cell_type": "code",
   "execution_count": 3,
   "id": "80cde331",
   "metadata": {},
   "outputs": [],
   "source": [
    "def FP():\n",
    "    TDI=calc_TDI()\n",
    "    CAF=0.65+0.01*TDI\n",
    "    UFP=calc_UFP()\n",
    "    FP=UFP*CAF\n",
    "    print(f\"The function point is: {FP}\")"
   ]
  },
  {
   "cell_type": "code",
   "execution_count": 4,
   "id": "15388f79",
   "metadata": {},
   "outputs": [],
   "source": [
    "def contains_cocomo_keywords(text):\n",
    "    keywords = [\"cocomo\", \"COCOMO\", \"semi-detached\", \"organic\", \"embedded\", \"KLOC\"]\n",
    "    for keyword in keywords:\n",
    "        if keyword.lower() in text.lower():\n",
    "            return True\n",
    "    return False\n",
    "\n",
    "def check_function_point_analysis(text):\n",
    "    text=text.lower()\n",
    "    keywords=[\"function point\"]\n",
    "    for keyword in keywords:\n",
    "        if keyword in text:\n",
    "            return True\n",
    "    return False\n",
    "\n",
    "def cocomo():\n",
    "    kloc = float(input(\"Enter the lines of code in thousands: \"))\n",
    "    var = input(\"Enter a variant (organic, semi detached, embedded): \").lower()  #Convert input to lowercase\n",
    "    valid = [\"organic\", \"semi detached\", \"embedded\"]\n",
    "    if var in valid:\n",
    "        if var == \"organic\":\n",
    "            effort = 2.4*(kloc ** 1.05)\n",
    "            devtime = 2.5 * (effort ** 0.38)\n",
    "        elif var == \"semi detached\":\n",
    "            effort = 3*(kloc ** 1.12)\n",
    "            devtime = 2.5 * (effort ** 0.35)\n",
    "        else:\n",
    "            effort = 3.6*(kloc ** 1.20)\n",
    "            devtime = 2.5 * (effort ** 0.32)\n",
    "        wfr = effort/devtime\n",
    "        prod = kloc/effort\n",
    "        print(f\"Effort: {effort}, \\nDev. time: {devtime}, \\nWork force requirements (WFR): {wfr}, \\nProductivity: {prod}\")\n",
    "\n",
    "    else:\n",
    "        print(var, \"is not a valid option.\")"
   ]
  },
  {
   "cell_type": "markdown",
   "id": "9dbd2172",
   "metadata": {},
   "source": [
    "## The following code was for test purposes. Change it accordingly for the model. "
   ]
  },
  {
   "cell_type": "code",
   "execution_count": 5,
   "id": "a7cf2d16",
   "metadata": {},
   "outputs": [
    {
     "name": "stdout",
     "output_type": "stream",
     "text": [
      "Enter your query.cocomo\n",
      "Enter the lines of code in thousands: 89\n",
      "Enter a variant (organic, semi detached, embedded): organic\n",
      "Effort: 267.34418899111705, \n",
      "Dev. time: 20.903879496593916, \n",
      "Work force requirements (WFR): 12.789214032480343, \n",
      "Productivity: 0.33290418742917643\n"
     ]
    }
   ],
   "source": [
    "prompt = input(\"Enter your query.\") # this input should come from the user.\n",
    "if contains_cocomo_keywords(prompt): # check the keywords as well, and you can change it at your discretion\n",
    "    cocomo()\n",
    "elif check_function_point_analysis(prompt):\n",
    "    FP()\n",
    "# else:\n",
    "      # will go to the base model "
   ]
  },
  {
   "cell_type": "code",
   "execution_count": null,
   "id": "4a177ff6",
   "metadata": {},
   "outputs": [],
   "source": []
  }
 ],
 "metadata": {
  "kernelspec": {
   "display_name": "Python 3 (ipykernel)",
   "language": "python",
   "name": "python3"
  },
  "language_info": {
   "codemirror_mode": {
    "name": "ipython",
    "version": 3
   },
   "file_extension": ".py",
   "mimetype": "text/x-python",
   "name": "python",
   "nbconvert_exporter": "python",
   "pygments_lexer": "ipython3",
   "version": "3.9.12"
  }
 },
 "nbformat": 4,
 "nbformat_minor": 5
}
